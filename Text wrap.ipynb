{
 "cells": [
  {
   "cell_type": "markdown",
   "id": "12780075",
   "metadata": {},
   "source": [
    "# Text Wrap"
   ]
  },
  {
   "cell_type": "raw",
   "id": "aacb5c22",
   "metadata": {},
   "source": [
    "- The textwrap module provides two convenient functions: wrap() and fill().\n",
    "    textwrap.wrap()\n",
    "\n",
    "- The wrap() function wraps a single paragraph in text (a string) so that every line is width characters long at most.\n",
    "\n",
    "- It returns a list of output lines."
   ]
  },
  {
   "cell_type": "markdown",
   "id": "fa1ad4d6",
   "metadata": {},
   "source": [
    "# 1] textwrap.wrap()"
   ]
  },
  {
   "cell_type": "code",
   "execution_count": 2,
   "id": "37c86cf4",
   "metadata": {},
   "outputs": [
    {
     "name": "stdout",
     "output_type": "stream",
     "text": [
      "['This is', 'a very', 'very', 'very', 'very', 'very', 'long', 'string.']\n"
     ]
    }
   ],
   "source": [
    "# Example:-\n",
    "import textwrap\n",
    "\n",
    "string = \"This is a very very very very very long string.\"\n",
    "print(textwrap.wrap(string,8))"
   ]
  },
  {
   "cell_type": "code",
   "execution_count": 3,
   "id": "ddf71bd5",
   "metadata": {},
   "outputs": [
    {
     "name": "stdout",
     "output_type": "stream",
     "text": [
      "['This is', 'a very', 'very', 'very', 'very', 'very', 'long', 'string.'] 8\n"
     ]
    }
   ],
   "source": [
    "# Example:-\n",
    "import textwrap\n",
    "\n",
    "string = \"This is a very very very very very long string.\"\n",
    "re=textwrap.wrap(string,8)\n",
    "print(re,len(re))"
   ]
  },
  {
   "cell_type": "markdown",
   "id": "9360b5f8",
   "metadata": {},
   "source": [
    "# 2] textwrap.fill()"
   ]
  },
  {
   "cell_type": "raw",
   "id": "24c9e564",
   "metadata": {},
   "source": [
    "- The fill() function wraps a single paragraph in text and returns a single string containing the wrapped paragraph."
   ]
  },
  {
   "cell_type": "code",
   "execution_count": 4,
   "id": "19f3beca",
   "metadata": {},
   "outputs": [
    {
     "name": "stdout",
     "output_type": "stream",
     "text": [
      "This is\n",
      "a very\n",
      "very\n",
      "very\n",
      "very\n",
      "very\n",
      "long\n",
      "string.\n"
     ]
    }
   ],
   "source": [
    "# Example:-\n",
    "\n",
    "import textwrap\n",
    "\n",
    "string=\"This is a very very very very very long string.\"\n",
    "re=textwrap.fill(string,8)\n",
    "print(re)"
   ]
  },
  {
   "cell_type": "code",
   "execution_count": 5,
   "id": "d7860e7e",
   "metadata": {},
   "outputs": [
    {
     "name": "stdout",
     "output_type": "stream",
     "text": [
      "ABCD\n",
      "EFGH\n",
      "IJKL\n",
      "MNOP\n",
      "QRST\n",
      "UV\n"
     ]
    }
   ],
   "source": [
    "import textwrap\n",
    "\n",
    "string='ABCDEFGHIJKLMNOPQRSTUV'\n",
    "a=textwrap.fill(string,4)     # width 4 therefore every line 4 char long.\n",
    "print(a)"
   ]
  },
  {
   "cell_type": "code",
   "execution_count": 6,
   "id": "ce1940a5",
   "metadata": {},
   "outputs": [
    {
     "name": "stdout",
     "output_type": "stream",
     "text": [
      "['ABCD', 'EFGH', 'IJKL', 'MNOP', 'QRST', 'UV']\n"
     ]
    }
   ],
   "source": [
    "import textwrap\n",
    "\n",
    "string='ABCDEFGHIJKLMNOPQRSTUV'\n",
    "a=textwrap.wrap(string,4)     # width 4 therefore every string 4 char long.\n",
    "print(a)"
   ]
  },
  {
   "cell_type": "code",
   "execution_count": 7,
   "id": "cf2f6848",
   "metadata": {},
   "outputs": [
    {
     "data": {
      "text/plain": [
       "6"
      ]
     },
     "execution_count": 7,
     "metadata": {},
     "output_type": "execute_result"
    }
   ],
   "source": [
    "len(a)"
   ]
  },
  {
   "cell_type": "code",
   "execution_count": 8,
   "id": "ddcf210c",
   "metadata": {},
   "outputs": [
    {
     "data": {
      "text/plain": [
       "4"
      ]
     },
     "execution_count": 8,
     "metadata": {},
     "output_type": "execute_result"
    }
   ],
   "source": [
    "len(a[0])"
   ]
  },
  {
   "cell_type": "code",
   "execution_count": null,
   "id": "6ae16df1",
   "metadata": {},
   "outputs": [],
   "source": []
  }
 ],
 "metadata": {
  "kernelspec": {
   "display_name": "Python 3",
   "language": "python",
   "name": "python3"
  },
  "language_info": {
   "codemirror_mode": {
    "name": "ipython",
    "version": 3
   },
   "file_extension": ".py",
   "mimetype": "text/x-python",
   "name": "python",
   "nbconvert_exporter": "python",
   "pygments_lexer": "ipython3",
   "version": "3.8.8"
  }
 },
 "nbformat": 4,
 "nbformat_minor": 5
}
